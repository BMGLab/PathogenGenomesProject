{
 "cells": [
  {
   "cell_type": "code",
   "execution_count": 139,
   "id": "ef478a39",
   "metadata": {},
   "outputs": [],
   "source": [
    "import pysam"
   ]
  },
  {
   "cell_type": "code",
   "execution_count": 140,
   "id": "a1e8e592",
   "metadata": {},
   "outputs": [],
   "source": [
    "bamfile = pysam.AlignmentFile(\"ont_ill_spades_contigs2ref.sorted.bam\" , \"rb\")"
   ]
  },
  {
   "cell_type": "code",
   "execution_count": 141,
   "id": "b27740c4",
   "metadata": {},
   "outputs": [],
   "source": [
    "output_file = open(\"header_info.txt\" , \"w\")"
   ]
  },
  {
   "cell_type": "code",
   "execution_count": 142,
   "id": "f382ac7c",
   "metadata": {},
   "outputs": [],
   "source": [
    "reference_sequences = bamfile.references[:15]"
   ]
  },
  {
   "cell_type": "code",
   "execution_count": 143,
   "id": "53de6687",
   "metadata": {},
   "outputs": [],
   "source": [
    "mapped_contigs = {}\n",
    "total_reads=0\n",
    "for referance_name in reference_sequences:\n",
    "    counter_mapped_contig = 0\n",
    "    counter_unmapped_contig = 0\n",
    "\n",
    "    for i in bamfile.fetch(referance_name):\n",
    "        if(not i.is_unmapped):\n",
    "            counter_mapped_contig+=1\n",
    "        else:\n",
    "            counter_unmapped_contig += 1\n",
    "    mapped_contigs[referance_name] = counter_mapped_contig\n",
    "    total_reads += (counter_mapped_contig + counter_unmapped_contig)\n",
    "\n",
    "\n",
    "\n",
    "            \n",
    "    \n",
    "        \n",
    "        "
   ]
  },
  {
   "cell_type": "code",
   "execution_count": 144,
   "id": "d6fb9214",
   "metadata": {},
   "outputs": [
    {
     "name": "stdout",
     "output_type": "stream",
     "text": [
      "{'NC_030986.1': 1870, 'NC_030987.1': 947, 'NC_030988.1': 6162, 'NC_030989.1': 596, 'NC_030990.1': 559, 'NC_030991.1': 4776, 'NC_030992.1': 415, 'NC_030993.1': 368, 'NC_030994.1': 365, 'NC_030995.1': 385, 'NC_030996.1': 431, 'NC_030997.1': 392, 'NC_030998.1': 247, 'NC_030999.1': 2323, 'NC_031000.1': 3485}\n"
     ]
    }
   ],
   "source": [
    "print(mapped_contigs)"
   ]
  },
  {
   "cell_type": "code",
   "execution_count": 145,
   "id": "0d7efdce",
   "metadata": {},
   "outputs": [
    {
     "name": "stdout",
     "output_type": "stream",
     "text": [
      "23321\n"
     ]
    }
   ],
   "source": [
    "print(total_reads)"
   ]
  },
  {
   "cell_type": "code",
   "execution_count": 146,
   "id": "5d079e2c",
   "metadata": {},
   "outputs": [
    {
     "name": "stdout",
     "output_type": "stream",
     "text": [
      "NC_030986.1 : 8.01852%\n",
      "NC_030987.1 : 4.06072%\n",
      "NC_030988.1 : 26.42254%\n",
      "NC_030989.1 : 2.55564%\n",
      "NC_030990.1 : 2.39698%\n",
      "NC_030991.1 : 20.47940%\n",
      "NC_030992.1 : 1.77951%\n",
      "NC_030993.1 : 1.57798%\n",
      "NC_030994.1 : 1.56511%\n",
      "NC_030995.1 : 1.65087%\n",
      "NC_030996.1 : 1.84812%\n",
      "NC_030997.1 : 1.68089%\n",
      "NC_030998.1 : 1.05913%\n",
      "NC_030999.1 : 9.96098%\n",
      "NC_031000.1 : 14.94361%\n"
     ]
    }
   ],
   "source": [
    "for (key , val) in zip(mapped_contigs.keys() , mapped_contigs.values()):\n",
    "    #mapped_contigs[key] = (val / total_reads)*100\n",
    "    print(f\"{key} : {((val / total_reads)*100):.5f}%\")"
   ]
  },
  {
   "cell_type": "code",
   "execution_count": null,
   "id": "ebb0647a",
   "metadata": {},
   "outputs": [],
   "source": []
  }
 ],
 "metadata": {
  "kernelspec": {
   "display_name": "base",
   "language": "python",
   "name": "base"
  },
  "language_info": {
   "codemirror_mode": {
    "name": "ipython",
    "version": 3
   },
   "file_extension": ".py",
   "mimetype": "text/x-python",
   "name": "python",
   "nbconvert_exporter": "python",
   "pygments_lexer": "ipython3",
   "version": "3.10.9"
  }
 },
 "nbformat": 4,
 "nbformat_minor": 5
}
